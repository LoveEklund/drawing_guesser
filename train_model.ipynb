{
 "cells": [
  {
   "cell_type": "code",
   "execution_count": 10,
   "metadata": {},
   "outputs": [],
   "source": [
    "from PIL import Image\n",
    "import json \n",
    "import numpy as np\n",
    "import os \n",
    "from website.model.model import get_model\n",
    "import pickle\n",
    "\n",
    "from sklearn.model_selection import train_test_split"
   ]
  },
  {
   "cell_type": "code",
   "execution_count": 5,
   "metadata": {},
   "outputs": [],
   "source": [
    "def read_data(folder, n_per_class = 10_000):\n",
    "    data = []\n",
    "    labels = []\n",
    "    label_mapping = {}\n",
    "    files = os.listdir(folder)\n",
    "    for file in files:\n",
    "        label = len(label_mapping)\n",
    "        print(file)\n",
    "        label_mapping[label] = file.split(\"_\")[-1].split(\".\")[0]\n",
    "        tmp_data = np.load(os.path.join(folder,file), encoding='latin1', allow_pickle=True)\n",
    "        for data_point in tmp_data[:n_per_class]:\n",
    "            data.append(np.array(data_point).reshape((28,28)))\n",
    "            labels.append(label)\n",
    "    \n",
    "    return np.array(data), np.array(labels) , label_mapping\n"
   ]
  },
  {
   "cell_type": "code",
   "execution_count": 6,
   "metadata": {},
   "outputs": [
    {
     "name": "stdout",
     "output_type": "stream",
     "text": [
      "full_numpy_bitmap_ant.npy\n",
      "full_numpy_bitmap_apple.npy\n",
      "full_numpy_bitmap_bat.npy\n",
      "full_numpy_bitmap_bee.npy\n",
      "full_numpy_bitmap_broccoli.npy\n",
      "full_numpy_bitmap_broom.npy\n",
      "full_numpy_bitmap_butterfly.npy\n",
      "full_numpy_bitmap_cat.npy\n",
      "full_numpy_bitmap_crocodile.npy\n"
     ]
    }
   ],
   "source": [
    "# You can get data by downloading some files from here and put them in the data folder\n",
    "#https://console.cloud.google.com/storage/browser/quickdraw_dataset/full/numpy_bitmap;tab=objects?prefix=&forceOnObjectsSortingFiltering=false\n",
    "\n",
    "data, labels, label_mapping = read_data(\"Data\", n_per_class=20_000)\n",
    "\n",
    "x_train, x_val, y_train, y_val = train_test_split(data, labels, test_size=0.2, random_state=42)"
   ]
  },
  {
   "cell_type": "code",
   "execution_count": 7,
   "metadata": {},
   "outputs": [],
   "source": [
    "model = get_model(len(label_mapping))"
   ]
  },
  {
   "cell_type": "code",
   "execution_count": 8,
   "metadata": {},
   "outputs": [
    {
     "name": "stdout",
     "output_type": "stream",
     "text": [
      "Epoch 1/2\n",
      "563/563 [==============================] - 47s 82ms/step - loss: 0.6313 - accuracy: 0.8023 - val_loss: 0.4265 - val_accuracy: 0.8683\n",
      "Epoch 2/2\n",
      "563/563 [==============================] - 52s 92ms/step - loss: 0.3874 - accuracy: 0.8817 - val_loss: 0.3515 - val_accuracy: 0.8924\n"
     ]
    }
   ],
   "source": [
    "x_train_reshaped = x_train.reshape(-1, 28, 28, 1)\n",
    "\n",
    "# Normalize the data values to range [0, 1]\n",
    "x_train_normalized = x_train_reshaped / 255.0\n",
    "\n",
    "x_val_reshaped = x_val.reshape(-1, 28, 28, 1)\n",
    "\n",
    "# Normalize the data values to range [0, 1]\n",
    "x_val_normalized = x_val_reshaped / 255.0\n",
    "\n",
    "\n",
    "# Train the model\n",
    "history = model.fit(x_train_normalized, y_train, epochs=2, batch_size=256, validation_data=(x_val_normalized, y_val))\n"
   ]
  },
  {
   "cell_type": "code",
   "execution_count": 9,
   "metadata": {},
   "outputs": [
    {
     "name": "stdout",
     "output_type": "stream",
     "text": [
      "Epoch 1/2\n",
      "563/563 [==============================] - 46s 82ms/step - loss: 0.3270 - accuracy: 0.9005 - val_loss: 0.3239 - val_accuracy: 0.9003\n",
      "Epoch 2/2\n",
      "563/563 [==============================] - 44s 78ms/step - loss: 0.2908 - accuracy: 0.9116 - val_loss: 0.2895 - val_accuracy: 0.9107\n"
     ]
    }
   ],
   "source": [
    "history = model.fit(x_train_normalized, y_train, epochs=2, batch_size=256, validation_data=(x_val_normalized, y_val))\n"
   ]
  },
  {
   "cell_type": "code",
   "execution_count": 11,
   "metadata": {},
   "outputs": [],
   "source": [
    "model.save_weights('model/model.h5')\n",
    "\n",
    "directory = \"model\"\n",
    "# Save dictionary using pickle\n",
    "with open(os.path.join(directory, 'label_mapping.pkl'), 'wb') as f:\n",
    "    pickle.dump(label_mapping, f)\n"
   ]
  }
 ],
 "metadata": {
  "kernelspec": {
   "display_name": "drawing_recog-AEnQ1kVC",
   "language": "python",
   "name": "python3"
  },
  "language_info": {
   "codemirror_mode": {
    "name": "ipython",
    "version": 3
   },
   "file_extension": ".py",
   "mimetype": "text/x-python",
   "name": "python",
   "nbconvert_exporter": "python",
   "pygments_lexer": "ipython3",
   "version": "3.10.11"
  },
  "orig_nbformat": 4
 },
 "nbformat": 4,
 "nbformat_minor": 2
}
